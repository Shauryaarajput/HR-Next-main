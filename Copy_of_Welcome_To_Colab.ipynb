{
  "cells": [
    {
      "cell_type": "markdown",
      "metadata": {
        "id": "view-in-github",
        "colab_type": "text"
      },
      "source": [
        "<a href=\"https://colab.research.google.com/github/Shauryaarajput/HR-Next-main/blob/main/Copy_of_Welcome_To_Colab.ipynb\" target=\"_parent\"><img src=\"https://colab.research.google.com/assets/colab-badge.svg\" alt=\"Open In Colab\"/></a>"
      ]
    },
    {
      "cell_type": "markdown",
      "source": [
        "**TWo Sum**"
      ],
      "metadata": {
        "id": "WecKzYU86cR4"
      }
    },
    {
      "cell_type": "code",
      "source": [
        "def twoSum(arr, target):\n",
        "    n = len(arr)\n",
        "\n",
        "    for i in range(n):\n",
        "\n",
        "        # For each element arr[i], check every\n",
        "        # other element arr[j] that comes after it\n",
        "        for j in range(i + 1, n):\n",
        "\n",
        "            # Check if the sum of the current pair\n",
        "            # equals the target\n",
        "            if arr[i] + arr[j] == target:\n",
        "                return True\n",
        "\n",
        "    # If no pair is found after checking\n",
        "    # all possibilities\n",
        "    return False\n",
        "\n",
        "if __name__ == \"__main__\":\n",
        "    arr = [0, -1, 2, -3, 1]\n",
        "    target = -2\n",
        "\n",
        "    if twoSum(arr, target):\n",
        "        print(\"true\")\n",
        "    else:\n",
        "        print(\"false\")"
      ],
      "metadata": {
        "colab": {
          "base_uri": "https://localhost:8080/"
        },
        "id": "WpKLWY076l_4",
        "outputId": "56fb0743-2806-4f22-c856-09fd2c76ae7f"
      },
      "execution_count": null,
      "outputs": [
        {
          "output_type": "stream",
          "name": "stdout",
          "text": [
            "true\n"
          ]
        }
      ]
    },
    {
      "cell_type": "markdown",
      "source": [
        "**Share Market**"
      ],
      "metadata": {
        "id": "6FIGj5R769MD"
      }
    },
    {
      "cell_type": "code",
      "source": [
        "def stock(prices):\n",
        "  diff = 0 # max difference btn the prices means high profit\n",
        "  for i in range(len(prices)-1): # loop for buying the stock\n",
        "    for j in range (i+1 , len(prices)): # loop for selling the stock\n",
        "      diff = max(diff,prices[j]-prices[i])\n",
        "  return diff\n",
        "\n",
        "if __name__==\"__main__\": #driver code\n",
        "  prices = [7, 10, 1, 3, 6, 9, 2]\n",
        "  print(stock(prices))\n"
      ],
      "metadata": {
        "colab": {
          "base_uri": "https://localhost:8080/"
        },
        "id": "IScp02Ql7Qt-",
        "outputId": "f85ce546-c83b-469a-cb17-ca0a3f3df1e3"
      },
      "execution_count": null,
      "outputs": [
        {
          "output_type": "stream",
          "name": "stdout",
          "text": [
            "8\n"
          ]
        }
      ]
    },
    {
      "cell_type": "markdown",
      "source": [
        "**Duplcates**"
      ],
      "metadata": {
        "id": "s4LQzwlq9kvM"
      }
    },
    {
      "cell_type": "code",
      "source": [
        "# Python code to find duplicates in an array\n",
        "# using auxiliary array\n",
        "\n",
        "\n",
        "def findDuplicates(arr):\n",
        "    n = len(arr)\n",
        "    freqArr = [0] * n # list with n element initalized as 0\n",
        "    result = []\n",
        "\n",
        "    # Step 2: Iterate through the array and\n",
        "    # count element frequencies\n",
        "    for num in arr:\n",
        "        freqArr[num] += 1\n",
        "\n",
        "    # Step 3: Iterate through all the possible\n",
        "    # elements to check duplicates\n",
        "    for i in range(n):\n",
        "        if freqArr[i] > 1:\n",
        "            result.append(i)\n",
        "\n",
        "    # Step 4: If no duplicates found,\n",
        "    # add -1 to the result\n",
        "    if not result:\n",
        "        result.append(-1)\n",
        "\n",
        "    # Step 6: Return the result list containing\n",
        "    # duplicate elements or -1\n",
        "    return result\n",
        "\n",
        "\n",
        "if __name__ == \"__main__\":\n",
        "    arr = [1, 6, 5, 2, 3, 3, 2]\n",
        "    duplicates = findDuplicates(arr)\n",
        "\n",
        "    for element in duplicates:\n",
        "        print(element, end=\" \")"
      ],
      "metadata": {
        "colab": {
          "base_uri": "https://localhost:8080/"
        },
        "id": "9gTvfVjS9sC-",
        "outputId": "d794f286-be55-4df1-ec7d-889b80b9c1ba"
      },
      "execution_count": null,
      "outputs": [
        {
          "output_type": "stream",
          "name": "stdout",
          "text": [
            "2 3 "
          ]
        }
      ]
    },
    {
      "cell_type": "markdown",
      "source": [
        "** Product of array**\n"
      ],
      "metadata": {
        "id": "uEXJeGr8BdvW"
      }
    },
    {
      "cell_type": "code",
      "source": [
        "def product(arr):  calculating the product of all element except the self\n",
        "  n = len(arr)\n",
        "  res = [1] * n\n",
        "  for i in range(n):\n",
        "    for j in range(n):\n",
        "      if arr[i] != arr[j]:\n",
        "        res[i]  =res[i] * arr[j]\n",
        "  return res\n",
        "if __name__ == \"__main__\":\n",
        "    arr = [10, 3, 5, 6, 2]\n",
        "    res = product(arr)\n",
        "    print(\" \".join(map(str, res)))\n"
      ],
      "metadata": {
        "id": "JJORXG3IBmG6",
        "outputId": "73e50635-b8bf-408b-dc42-b07e587eb26d",
        "colab": {
          "base_uri": "https://localhost:8080/"
        }
      },
      "execution_count": null,
      "outputs": [
        {
          "output_type": "stream",
          "name": "stdout",
          "text": [
            "180 600 360 300 900\n"
          ]
        }
      ]
    },
    {
      "cell_type": "markdown",
      "source": [
        "**Maximum sum of subarray**"
      ],
      "metadata": {
        "id": "vu_A5GmLC8rK"
      }
    },
    {
      "cell_type": "code",
      "source": [
        "def max_sum(arr):  # maximum sum of subarray it can be single\n",
        "  n = len(arr)\n",
        "  res = a[0]   # consider first element as max\n",
        "  for i in range(n):\n",
        "    sum = 0\n",
        "    for j in range(i,n):\n",
        "      sum = sum +arr[j]\n",
        "\n",
        "      res = max(res,sum)\n",
        "  return res\n",
        "\n",
        "if __name__ == \"__main__\":\n",
        "    arr = [2, 3, -8, 7, -1, 2, 3]\n",
        "    print(maxSubarraySum(arr))\n"
      ],
      "metadata": {
        "id": "6KzwbxwqDAUt"
      },
      "execution_count": null,
      "outputs": []
    }
  ],
  "metadata": {
    "colab": {
      "toc_visible": true,
      "provenance": [],
      "include_colab_link": true
    },
    "kernelspec": {
      "display_name": "Python 3",
      "name": "python3"
    }
  },
  "nbformat": 4,
  "nbformat_minor": 0
}